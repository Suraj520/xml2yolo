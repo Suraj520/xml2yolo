{
 "cells": [
  {
   "cell_type": "code",
   "execution_count": 36,
   "metadata": {},
   "outputs": [],
   "source": [
    "import glob\n",
    "import os\n",
    "import cv2\n",
    "import matplotlib.pyplot as plt\n",
    "#mentioning the list of subdirectories.\n",
    "Directories = ['D1','D2','D3','D4','D5','D6','D7','D8','D9','D10','D11']\n",
    "import numpy as np\n",
    "import shutil"
   ]
  },
  {
   "cell_type": "code",
   "execution_count": null,
   "metadata": {},
   "outputs": [
    {
     "name": "stdout",
     "output_type": "stream",
     "text": [
      "Moving 20431 images with annotations in the following directory:D1\n"
     ]
    }
   ],
   "source": [
    "#counter initialised \n",
    "os.chdir('/mnt/f084d510-e9ee-4344-ab0a-6811dadadb19/DL/Dataset/HollywoodHeads/Dataset/')\n",
    "count = 0\n",
    "idx = 0\n",
    "for file in glob.glob('*.txt'):\n",
    "    if count%20431 ==0:\n",
    "        Destination = (\"/mnt/f084d510-e9ee-4344-ab0a-6811dadadb19/DL/Dataset/NonMaskDataset/Subdir/\"+str(Directories[idx]))\n",
    "        #os.chdir(Destination)\n",
    "        #print(Destination)\n",
    "        #print(os.path.isfile(Destination))\n",
    "        print(\"Moving 20431 images with annotations in the following directory:\"+str(Directories[idx]))\n",
    "        idx+=1\n",
    "    #print(Destination)\n",
    "    filename = file.split('.')[0]\n",
    "    annotation= file\n",
    "    image = filename+\".jpeg\"\n",
    "    shutil.copy(image,Destination)\n",
    "    shutil.copy(file,Destination)\n",
    "    #print(os.path.isfile(image))   \n",
    "    #print(np.shape(cv2.imread('/mnt/f084d510-e9ee-4344-ab0a-6811dadadb19/DL/Dataset/HollywoodHeads/Dataset/'+image)))\n",
    "    count+=1\n"
   ]
  },
  {
   "cell_type": "code",
   "execution_count": 14,
   "metadata": {},
   "outputs": [
    {
     "data": {
      "text/plain": [
       "'D2'"
      ]
     },
     "execution_count": 14,
     "metadata": {},
     "output_type": "execute_result"
    }
   ],
   "source": []
  },
  {
   "cell_type": "code",
   "execution_count": null,
   "metadata": {},
   "outputs": [],
   "source": []
  }
 ],
 "metadata": {
  "kernelspec": {
   "display_name": "Python 3",
   "language": "python",
   "name": "python3"
  },
  "language_info": {
   "codemirror_mode": {
    "name": "ipython",
    "version": 3
   },
   "file_extension": ".py",
   "mimetype": "text/x-python",
   "name": "python",
   "nbconvert_exporter": "python",
   "pygments_lexer": "ipython3",
   "version": "3.6.10"
  }
 },
 "nbformat": 4,
 "nbformat_minor": 4
}
